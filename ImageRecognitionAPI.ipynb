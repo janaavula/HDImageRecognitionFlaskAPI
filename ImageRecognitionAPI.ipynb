{
 "cells": [
  {
   "cell_type": "code",
   "execution_count": 213,
   "metadata": {},
   "outputs": [
    {
     "name": "stdout",
     "output_type": "stream",
     "text": [
      "('probabilties for each category', {'faucet': 8.5866486e-05, 'hammer': 2.0471309e-05, 'thermostats': 0.0003764279, 'flowerpots': 0.99951726})\n",
      "('Model predicted image is ', 'flowerpots')\n"
     ]
    }
   ],
   "source": [
    "from keras.models import load_model\n",
    "from keras.preprocessing import image\n",
    "model = load_model(results_path + 'image_recongition_model.h5')\n",
    "\n",
    "#image=data.hubble_deep_field()\n",
    "img_path = '/Users/jac812i/Documents/Imagerecognition/unknown/unknown/images?q=tbn:ANd9GcSTraBoazT_Rk9-BRdntEDaDvE2QWd2wimQuoZg4Ho-h9eFbliH.jpg'\n",
    "img=image.load_img(img_path, target_size=(224, 224))\n",
    "img = image.img_to_array(img)\n",
    "red=img[:,:,0]\n",
    "green=img[:,:,1]\n",
    "blue=img[:,:,2]\n",
    "\n",
    "image_convert=np.array([red,green,blue])\n",
    "image_convert = np.expand_dims(image_convert, axis=0)\n",
    "preds = model.predict(image_convert)\n",
    "#Labels as per folder structure\n",
    "labels = [\"faucet\",\"flowerpots\",\"hammer\",\"thermostats\"]\n",
    "pred = dict(zip(labels, preds[0]))\n",
    "bestpred = labels[np.argmax(preds[0])]\n",
    "print (\"probabilties for each category\", pred)\n",
    "print (\"Model predicted image is \", bestpred)"
   ]
  },
  {
   "cell_type": "code",
   "execution_count": null,
   "metadata": {
    "collapsed": true
   },
   "outputs": [],
   "source": []
  }
 ],
 "metadata": {
  "kernelspec": {
   "display_name": "Python 2",
   "language": "python",
   "name": "python2"
  },
  "language_info": {
   "codemirror_mode": {
    "name": "ipython",
    "version": 2
   },
   "file_extension": ".py",
   "mimetype": "text/x-python",
   "name": "python",
   "nbconvert_exporter": "python",
   "pygments_lexer": "ipython2",
   "version": "2.7.13"
  }
 },
 "nbformat": 4,
 "nbformat_minor": 2
}
